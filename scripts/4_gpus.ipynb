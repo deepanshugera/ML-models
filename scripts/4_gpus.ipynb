{
 "cells": [
  {
   "cell_type": "code",
   "execution_count": 71,
   "metadata": {},
   "outputs": [],
   "source": [
    "import re\n",
    "import pandas as pd"
   ]
  },
  {
   "cell_type": "code",
   "execution_count": 72,
   "metadata": {},
   "outputs": [
    {
     "name": "stdout",
     "output_type": "stream",
     "text": [
      "data from 2\n"
     ]
    },
    {
     "data": {
      "text/plain": [
       "[['39', '55', '0', '0'],\n",
       " ['39', '55', '0', '0'],\n",
       " ['39', '55', '25', '0'],\n",
       " ['39', '55', '418', '0'],\n",
       " ['39', '55', '420', '0'],\n",
       " ['39', '54', '420', '0'],\n",
       " ['39', '54', '420', '0'],\n",
       " ['39', '54', '420', '0'],\n",
       " ['39', '54', '420', '0'],\n",
       " ['39', '54', '420', '0'],\n",
       " ['39', '54', '420', '0'],\n",
       " ['39', '54', '420', '0'],\n",
       " ['39', '54', '420', '0'],\n",
       " ['39', '54', '420', '0'],\n",
       " ['39', '54', '420', '0'],\n",
       " ['39', '54', '420', '0'],\n",
       " ['39', '54', '420', '0'],\n",
       " ['39', '54', '420', '0'],\n",
       " ['39', '54', '420', '0'],\n",
       " ['39', '54', '420', '0'],\n",
       " ['39', '54', '420', '0'],\n",
       " ['39', '54', '420', '0'],\n",
       " ['39', '54', '420', '0'],\n",
       " ['39', '54', '420', '0'],\n",
       " ['39', '54', '420', '0'],\n",
       " ['39', '54', '420', '0'],\n",
       " ['39', '54', '420', '0'],\n",
       " ['39', '54', '420', '0'],\n",
       " ['39', '54', '420', '0'],\n",
       " ['39', '54', '420', '0'],\n",
       " ['39', '54', '420', '0'],\n",
       " ['39', '54', '420', '0'],\n",
       " ['39', '54', '420', '0'],\n",
       " ['39', '54', '420', '0'],\n",
       " ['39', '54', '420', '0'],\n",
       " ['39', '54', '420', '0'],\n",
       " ['39', '54', '420', '0'],\n",
       " ['39', '54', '420', '0'],\n",
       " ['39', '54', '420', '0'],\n",
       " ['39', '54', '420', '0'],\n",
       " ['39', '54', '420', '0'],\n",
       " ['39', '54', '420', '0'],\n",
       " ['39', '54', '420', '0'],\n",
       " ['39', '54', '420', '0'],\n",
       " ['39', '54', '420', '0'],\n",
       " ['39', '54', '420', '0'],\n",
       " ['39', '54', '420', '0'],\n",
       " ['39', '54', '420', '0'],\n",
       " ['39', '54', '420', '0'],\n",
       " ['39', '54', '420', '0'],\n",
       " ['39', '54', '420', '0'],\n",
       " ['39', '54', '420', '0'],\n",
       " ['39', '55', '420', '0'],\n",
       " ['39', '54', '420', '0'],\n",
       " ['39', '54', '420', '0'],\n",
       " ['39', '54', '420', '0'],\n",
       " ['39', '54', '420', '0'],\n",
       " ['39', '54', '420', '0'],\n",
       " ['39', '54', '420', '0'],\n",
       " ['39', '54', '420', '0'],\n",
       " ['39', '54', '420', '0'],\n",
       " ['39', '54', '420', '0'],\n",
       " ['39', '54', '420', '0'],\n",
       " ['39', '54', '420', '0'],\n",
       " ['39', '54', '420', '0'],\n",
       " ['39', '54', '0', '0'],\n",
       " ['39', '42', '0', '0']]"
      ]
     },
     "execution_count": 72,
     "metadata": {},
     "output_type": "execute_result"
    }
   ],
   "source": [
    "csv_data_gpu_1 = []\n",
    "csv_data_gpu_2 = []\n",
    "csv_data_gpu_3 = []\n",
    "csv_data_gpu_4 = []\n",
    "count = 0\n",
    "with open(\"nvidia.txt\") as f:\n",
    "    for line in f:\n",
    "        data = []\n",
    "        x = re.match(\"[\\w\\W]*N/A\\s*(\\d+)C\\s*P0\\s*(\\d+)W[\\w\\W]*\\s* (\\d+)MiB /[\\w\\W]*\\s* (\\d+)%[\\w\\W]*\", line)\n",
    "        if count == 0:\n",
    "            if x:\n",
    "                for y in range(1,5):\n",
    "                    data.append(x.group(y))\n",
    "                csv_data_gpu_1.append(data)\n",
    "                count =1\n",
    "        elif count ==1:\n",
    "            if x:\n",
    "                for y in range(1,5):\n",
    "                    data.append(x.group(y))\n",
    "                csv_data_gpu_2.append(data)\n",
    "                count = 2\n",
    "        elif count ==2:\n",
    "            if x:\n",
    "                for y in range(1,5):\n",
    "                    data.append(x.group(y))\n",
    "                csv_data_gpu_3.append(data)\n",
    "                count = 3\n",
    "        else:\n",
    "            if x:\n",
    "                for y in range(1,5):\n",
    "                    data.append(x.group(y))\n",
    "                csv_data_gpu_4.append(data)\n",
    "                count = 0\n",
    "\n",
    "print (\"data from 2\")\n",
    "csv_data_gpu_4\n",
    "# csv_data_gpu_2"
   ]
  },
  {
   "cell_type": "code",
   "execution_count": 73,
   "metadata": {},
   "outputs": [],
   "source": [
    "df_gpu_1 = pd.DataFrame(csv_data_gpu_1, columns = ['Temperature', 'Wattage', 'Memory', 'Utilization'])"
   ]
  },
  {
   "cell_type": "code",
   "execution_count": 74,
   "metadata": {},
   "outputs": [],
   "source": [
    "df_gpu_2 = pd.DataFrame(csv_data_gpu_2, columns = ['Temperature', 'Wattage', 'Memory', 'Utilization'])"
   ]
  },
  {
   "cell_type": "code",
   "execution_count": 75,
   "metadata": {},
   "outputs": [],
   "source": [
    "df_gpu_3 = pd.DataFrame(csv_data_gpu_3, columns = ['Temperature', 'Wattage', 'Memory', 'Utilization'])"
   ]
  },
  {
   "cell_type": "code",
   "execution_count": 76,
   "metadata": {},
   "outputs": [],
   "source": [
    "df_gpu_4 = pd.DataFrame(csv_data_gpu_4, columns = ['Temperature', 'Wattage', 'Memory', 'Utilization'])"
   ]
  },
  {
   "cell_type": "code",
   "execution_count": 77,
   "metadata": {},
   "outputs": [],
   "source": [
    "df_gpu_1.to_csv(\"gpu1.csv\")"
   ]
  },
  {
   "cell_type": "code",
   "execution_count": 18,
   "metadata": {},
   "outputs": [],
   "source": [
    "df_gpu_2.to_csv(\"gpu2.csv\")"
   ]
  },
  {
   "cell_type": "code",
   "execution_count": 19,
   "metadata": {},
   "outputs": [],
   "source": [
    "df_gpu_3.to_csv(\"gpu3.csv\")"
   ]
  },
  {
   "cell_type": "code",
   "execution_count": 20,
   "metadata": {},
   "outputs": [],
   "source": [
    "df_gpu_4.to_csv(\"gpu4.csv\")"
   ]
  },
  {
   "cell_type": "code",
   "execution_count": null,
   "metadata": {},
   "outputs": [],
   "source": []
  }
 ],
 "metadata": {
  "kernelspec": {
   "display_name": "Python 3",
   "language": "python",
   "name": "python3"
  },
  "language_info": {
   "codemirror_mode": {
    "name": "ipython",
    "version": 3
   },
   "file_extension": ".py",
   "mimetype": "text/x-python",
   "name": "python",
   "nbconvert_exporter": "python",
   "pygments_lexer": "ipython3",
   "version": "3.7.3"
  }
 },
 "nbformat": 4,
 "nbformat_minor": 2
}
